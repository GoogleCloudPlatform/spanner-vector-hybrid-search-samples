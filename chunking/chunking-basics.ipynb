{
 "cells": [
  {
   "cell_type": "code",
   "execution_count": 1,
   "id": "7992c8ac",
   "metadata": {},
   "outputs": [],
   "source": [
    "# Copyright 2025 Google LLC\n",
    "#\n",
    "# Licensed under the Apache License, Version 2.0 (the \"License\");\n",
    "# you may not use this file except in compliance with the License.\n",
    "# You may obtain a copy of the License at\n",
    "#\n",
    "#     https://www.apache.org/licenses/LICENSE-2.0\n",
    "#\n",
    "# Unless required by applicable law or agreed to in writing, software\n",
    "# distributed under the License is distributed on an \"AS IS\" BASIS,\n",
    "# WITHOUT WARRANTIES OR CONDITIONS OF ANY KIND, either express or implied.\n",
    "# See the License for the specific language governing permissions and\n",
    "# limitations under the License."
   ]
  },
  {
   "cell_type": "markdown",
   "id": "74f03d4d",
   "metadata": {},
   "source": [
    "# Google Spanner\n",
    "> [Spanner](https://cloud.google.com/spanner) is a highly scalable database that combines unlimited scalability with relational semantics, such as secondary indexes, strong consistency, schemas, and SQL providing 99.999% availability in one easy solution.\n",
    "\n",
    "This notebook goes over how to chunk documents when using `Spanner` for vector search. We'll use the `SpannerVectorStore` class from LangChain library.\n",
    "\n",
    "Learn more about Spanner's integration with LangChain by visiting the [GitHub repo](https://github.com/googleapis/langchain-google-spanner-python/).\n",
    "\n",
    "[![Open In Colab](https://colab.research.google.com/assets/colab-badge.svg)](https://colab.research.google.com/github/GoogleCloudPlatform/spanner-vector-hybrid-search-samples/blob/main/chunking/chunking-basics.ipynb)"
   ]
  },
  {
   "cell_type": "markdown",
   "id": "e04be520",
   "metadata": {},
   "source": [
    "## Before You Begin\n",
    "\n",
    "To run this notebook, you will need to do the following:\n",
    "\n",
    " * [Create a Google Cloud Project](https://developers.google.com/workspace/guides/create-project)\n",
    " * [Enable the Cloud Spanner API](https://console.cloud.google.com/flows/enableapi?apiid=spanner.googleapis.com)\n",
    " * [Create a Spanner instance](https://cloud.google.com/spanner/docs/create-manage-instances)\n",
    " * [Create a Spanner database](https://cloud.google.com/spanner/docs/create-manage-databases)"
   ]
  },
  {
   "cell_type": "markdown",
   "id": "cb7c81ae",
   "metadata": {},
   "source": [
    "### 🦜🔗 Install dependencies\n",
    "Let's first install langchain and Vertex AI libraries"
   ]
  },
  {
   "cell_type": "code",
   "execution_count": 7,
   "id": "4217f3bb",
   "metadata": {},
   "outputs": [
    {
     "name": "stdout",
     "output_type": "stream",
     "text": [
      "Note: you may need to restart the kernel to use updated packages.\n"
     ]
    }
   ],
   "source": [
    "%pip install --upgrade --quiet langchain-text-splitters langchain-google-spanner langchain-google-vertexai"
   ]
  },
  {
   "cell_type": "markdown",
   "id": "ee926a17",
   "metadata": {},
   "source": [
    "**Colab only:** Uncomment the following cell to restart the kernel or use the button to restart the kernel. For Vertex AI Workbench you can restart the terminal using the button on top."
   ]
  },
  {
   "cell_type": "code",
   "execution_count": null,
   "id": "3bc3067e",
   "metadata": {},
   "outputs": [],
   "source": [
    "# # Automatically restart kernel after installs so that your environment can access the new packages\n",
    "# import IPython\n",
    "\n",
    "# app = IPython.Application.instance()\n",
    "# app.kernel.do_shutdown(True)"
   ]
  },
  {
   "cell_type": "markdown",
   "id": "e240c631",
   "metadata": {},
   "source": [
    "### 🔐 Authentication\n",
    "Authenticate to Google Cloud as the IAM user logged into this notebook in order to access your Google Cloud Project.\n",
    "\n",
    "* If you are using Colab to run this notebook, use the cell below and continue.\n",
    "* If you are using Vertex AI Workbench, check out the setup instructions [here](https://github.com/GoogleCloudPlatform/generative-ai/tree/main/setup-env)."
   ]
  },
  {
   "cell_type": "code",
   "execution_count": null,
   "id": "d05b6c04",
   "metadata": {},
   "outputs": [],
   "source": [
    "from google.colab import auth\n",
    "\n",
    "auth.authenticate_user()"
   ]
  },
  {
   "cell_type": "markdown",
   "id": "1f16e938",
   "metadata": {},
   "source": [
    "### ☁ Set Your Google Cloud Project\n",
    "Set your Google Cloud project so that you can leverage Google Cloud resources within this notebook.\n",
    "\n",
    "If you don't know your project ID, try the following:\n",
    "\n",
    "* Run `gcloud config list`.\n",
    "* Run `gcloud projects list`.\n",
    "* See the support page: [Locate the project ID](https://support.google.com/googleapi/answer/7014113)."
   ]
  },
  {
   "cell_type": "code",
   "execution_count": 2,
   "id": "a7c91c90",
   "metadata": {},
   "outputs": [
    {
     "name": "stdout",
     "output_type": "stream",
     "text": [
      "Updated property [core/project].\n",
      "env: GOOGLE_CLOUD_PROJECT=kt-shared-project\n"
     ]
    }
   ],
   "source": [
    "# @markdown Please fill in the value below with your Google Cloud project ID and then run the cell.\n",
    "\n",
    "PROJECT_ID = \"kt-shared-project\"  # @param {type:\"string\"}\n",
    "\n",
    "# Set the project id\n",
    "!gcloud config set project {PROJECT_ID}\n",
    "%env GOOGLE_CLOUD_PROJECT={PROJECT_ID}"
   ]
  },
  {
   "cell_type": "markdown",
   "id": "1fc93faf",
   "metadata": {},
   "source": [
    "### 💡 API Enablement\n",
    "The `langchain-google-spanner` package requires that you [enable the Spanner API](https://console.cloud.google.com/flows/enableapi?apiid=spanner.googleapis.com) in your Google Cloud Project."
   ]
  },
  {
   "cell_type": "code",
   "execution_count": null,
   "id": "8f711392",
   "metadata": {},
   "outputs": [],
   "source": [
    "# enable Spanner API\n",
    "!gcloud services enable spanner.googleapis.com"
   ]
  },
  {
   "cell_type": "markdown",
   "id": "b954890e",
   "metadata": {},
   "source": [
    "### Set Spanner database values\n",
    "Find your database values, in the [Spanner Instances page](https://console.cloud.google.com/spanner?_ga=2.223735448.2062268965.1707700487-2088871159.1707257687)."
   ]
  },
  {
   "cell_type": "code",
   "execution_count": 84,
   "id": "6203a44f",
   "metadata": {},
   "outputs": [],
   "source": [
    "# @title Set Your Values Here { display-mode: \"form\" }\n",
    "INSTANCE = \"tempus-test2\"  # @param {type: \"string\"}\n",
    "DATABASE = \"fts-test2\"  # @param {type: \"string\"}\n",
    "TABLE_NAME = \"vectors_search_data\"  # @param {type: \"string\"}"
   ]
  },
  {
   "cell_type": "markdown",
   "id": "cbf25543",
   "metadata": {},
   "source": [
    "### Initialize a table\n",
    "The `SpannerVectorStore` class instance requires a database table with id, content and embeddings columns. \n",
    "\n",
    "The helper method `init_vector_store_table()` that can be used to create a table with the proper schema for you."
   ]
  },
  {
   "cell_type": "code",
   "execution_count": 111,
   "id": "89355fe5",
   "metadata": {},
   "outputs": [
    {
     "name": "stdout",
     "output_type": "stream",
     "text": [
      "Waiting for operation to complete...\n"
     ]
    },
    {
     "data": {
      "text/plain": [
       "True"
      ]
     },
     "execution_count": 111,
     "metadata": {},
     "output_type": "execute_result"
    }
   ],
   "source": [
    "import langchain_google_spanner\n",
    "\n",
    "from langchain_google_spanner import SecondaryIndex, SpannerVectorStore, TableColumn\n",
    "\n",
    "SpannerVectorStore.init_vector_store_table(\n",
    "    instance_id=INSTANCE,\n",
    "    database_id=DATABASE,\n",
    "    table_name=TABLE_NAME,\n",
    "    # Customize the table creation\n",
    "    id_column=\"id\",\n",
    "    # content_column=\"content_column\",\n",
    "    # metadata_columns=[\n",
    "    #     TableColumn(name=\"metadata\", type=\"JSON\", is_null=True),\n",
    "    #     TableColumn(name=\"title\", type=\"STRING(MAX)\", is_null=False),\n",
    "    # ],\n",
    "    # secondary_indexes=[\n",
    "    #     SecondaryIndex(index_name=\"row_id_and_title\", columns=[\"row_id\", \"title\"])\n",
    "    # ],\n",
    ")"
   ]
  },
  {
   "cell_type": "markdown",
   "id": "2cf8ef73",
   "metadata": {},
   "source": [
    "### Create an embedding class instance\n",
    "\n",
    "You can use any [LangChain embeddings model](https://python.langchain.com/docs/integrations/text_embedding/).\n",
    "You may need to enable Vertex AI API to use `VertexAIEmbeddings`. We recommend setting the embedding model's version for production, learn more about the [Text embeddings models](https://cloud.google.com/vertex-ai/docs/generative-ai/model-reference/text-embeddings) and [Model versions](https://cloud.google.com/vertex-ai/generative-ai/docs/model-reference/text-embeddings-api#model_versions)."
   ]
  },
  {
   "cell_type": "code",
   "execution_count": null,
   "id": "8b0cf610",
   "metadata": {},
   "outputs": [],
   "source": [
    "# enable Vertex AI API\n",
    "!gcloud services enable aiplatform.googleapis.com"
   ]
  },
  {
   "cell_type": "code",
   "execution_count": 112,
   "id": "5ffb2fba",
   "metadata": {},
   "outputs": [],
   "source": [
    "from langchain_google_vertexai import VertexAIEmbeddings\n",
    "\n",
    "# Make sure you update the model version below reflect the latest production version\n",
    "embeddings = VertexAIEmbeddings(\n",
    "    model_name=\"text-embedding-005\", project=PROJECT_ID\n",
    ")"
   ]
  },
  {
   "cell_type": "markdown",
   "id": "ca4434de",
   "metadata": {},
   "source": [
    "### SpannerVectorStore\n",
    "\n",
    "To initialize the `SpannerVectorStore` class you need to provide 4 required arguments and other arguments are optional and only need to pass if it's different from default ones\n",
    "\n",
    "1. `instance_id` - The name of the Spanner instance\n",
    "1. `database_id` - The name of the Spanner database\n",
    "1. `table_name` - The name of the table within the database to store the documents & their embeddings.\n",
    "1. `embedding_service` - The Embeddings implementation which is used to generate the embeddings."
   ]
  },
  {
   "cell_type": "code",
   "execution_count": 113,
   "id": "8a26dca0",
   "metadata": {},
   "outputs": [],
   "source": [
    "db = SpannerVectorStore(\n",
    "    instance_id=INSTANCE,\n",
    "    database_id=DATABASE,\n",
    "    table_name=TABLE_NAME,\n",
    "    embedding_service=embeddings,\n",
    "    # Connect to a custom vector store table\n",
    "    id_column=\"id\",\n",
    "    # content_column=\"content\",\n",
    "    # metadata_columns=[\"metadata\", \"title\"],\n",
    ")"
   ]
  },
  {
   "cell_type": "markdown",
   "id": "7fd4df7c",
   "metadata": {},
   "source": [
    "### Chunking overview\n",
    "With all of that setup out of the way, let's talk about chunking (aka text splitting). In order to index documents in a vector store like Spanner, it's necessary to first partition or chunk the document into smaller pieces and then send those pieces to the data store to be indexed.\n",
    "\n",
    "Why is it \"necessary\" to split documents before indexing them? At a high level, it's because documents (even small ones) are made up of a collection of smaller \"fragments\". You can think of these fragments as sentences, concepts, words, etc... And in fact, there are a variety of approaches for splitting documents, and LangChain offers multiple options as described [here](https://python.langchain.com/docs/concepts/text_splitters/#text-structured-based).\n",
    "\n",
    "As explained in the above LangChain article on text splitters, there are roughly four broad approaches for chunking:\n",
    "\n",
    "- Length based\n",
    "- Text-structure based\n",
    "- Document-structured based\n",
    "- Semantic meaning based"
   ]
  },
  {
   "cell_type": "markdown",
   "id": "da89971d",
   "metadata": {},
   "source": [
    "#### Chunking with CharacterTextSplitter followed by indexing on Spanner"
   ]
  },
  {
   "cell_type": "code",
   "execution_count": 114,
   "id": "a1dc28c3",
   "metadata": {},
   "outputs": [],
   "source": [
    "import uuid\n",
    "from langchain_community.document_loaders import TextLoader\n",
    "from langchain_text_splitters import CharacterTextSplitter\n",
    "\n",
    "loader = TextLoader(\"vector_doc_input.txt\")\n",
    "file_contents = loader.load()\n",
    "\n",
    "# CharacterTextSplitter is just one of many text splitters\n",
    "text_splitter = CharacterTextSplitter(chunk_size=1000, chunk_overlap=0)\n",
    "\n",
    "# Generate chunks (list of LangChain Documents)\n",
    "documents = text_splitter.split_documents(file_contents)\n",
    "\n",
    "ids = [str(uuid.uuid4()) for _ in range(len(documents))]\n",
    "# The following indexes the above chunks in Spanner\n",
    "vectorstore = SpannerVectorStore.from_documents(documents,\n",
    "                                                embeddings,\n",
    "                                                INSTANCE,\n",
    "                                                DATABASE,\n",
    "                                                TABLE_NAME,\n",
    "                                                id_column=\"id\",\n",
    "                                                ids=ids)"
   ]
  },
  {
   "cell_type": "markdown",
   "id": "11df4eb2",
   "metadata": {},
   "source": [
    "The above code chunks the document and indexes the chunks in the specified Spanner table. Let's query the underlying Spanner table (TABLE_NAME) directly"
   ]
  },
  {
   "cell_type": "code",
   "execution_count": 115,
   "id": "c74df7fa",
   "metadata": {},
   "outputs": [
    {
     "data": {
      "text/html": [
       "<div>\n",
       "<style scoped>\n",
       "    .dataframe tbody tr th:only-of-type {\n",
       "        vertical-align: middle;\n",
       "    }\n",
       "\n",
       "    .dataframe tbody tr th {\n",
       "        vertical-align: top;\n",
       "    }\n",
       "\n",
       "    .dataframe thead th {\n",
       "        text-align: right;\n",
       "    }\n",
       "</style>\n",
       "<table border=\"1\" class=\"dataframe\">\n",
       "  <thead>\n",
       "    <tr style=\"text-align: right;\">\n",
       "      <th></th>\n",
       "      <th>id</th>\n",
       "      <th>content</th>\n",
       "      <th>embedding</th>\n",
       "    </tr>\n",
       "  </thead>\n",
       "  <tbody>\n",
       "    <tr>\n",
       "      <th>0</th>\n",
       "      <td>0e662025-f37e-46cc-ac15-e60c31b4311d</td>\n",
       "      <td>Since both correctness and availability are cr...</td>\n",
       "      <td>[-0.024999909102916718, -0.001801451202481985,...</td>\n",
       "    </tr>\n",
       "    <tr>\n",
       "      <th>1</th>\n",
       "      <td>2f41a409-3f48-47fd-9f44-a6c58872d073</td>\n",
       "      <td>Upping reliability with chaos testing\\nWe run ...</td>\n",
       "      <td>[-0.04426778107881546, 0.0026189256459474564, ...</td>\n",
       "    </tr>\n",
       "    <tr>\n",
       "      <th>2</th>\n",
       "      <td>31936bef-c7d2-49a8-a804-191c62280056</td>\n",
       "      <td>4. Memory/quota faults\\nWhen servers run low o...</td>\n",
       "      <td>[-0.037452224642038345, -0.007777196355164051,...</td>\n",
       "    </tr>\n",
       "    <tr>\n",
       "      <th>3</th>\n",
       "      <td>319c15f6-b562-444f-be6d-e7d86dae5e4f</td>\n",
       "      <td>Blackhole the request: Sometimes the file syst...</td>\n",
       "      <td>[-0.0427422858774662, -0.0013925273669883609, ...</td>\n",
       "    </tr>\n",
       "    <tr>\n",
       "      <th>4</th>\n",
       "      <td>3eed6c98-3944-402f-bed2-46500d4ce700</td>\n",
       "      <td>5. Cloud faults\\nAccess to Spanner from the Go...</td>\n",
       "      <td>[-0.04665933921933174, 0.001961533911526203, 0...</td>\n",
       "    </tr>\n",
       "    <tr>\n",
       "      <th>5</th>\n",
       "      <td>4da4365f-c09e-418a-8ebe-9838dcb0b57e</td>\n",
       "      <td>A read or query on the database does not retur...</td>\n",
       "      <td>[-0.018720634281635284, -0.020843015983700752,...</td>\n",
       "    </tr>\n",
       "    <tr>\n",
       "      <th>6</th>\n",
       "      <td>90036355-e996-4982-b42c-b89eb4a95dda</td>\n",
       "      <td>SOURCE: https://cloud.google.com/blog/products...</td>\n",
       "      <td>[-0.05042260140180588, 0.007137879263609648, 0...</td>\n",
       "    </tr>\n",
       "    <tr>\n",
       "      <th>7</th>\n",
       "      <td>90b8c7e1-2fdf-4613-abf0-03372d0e5e7f</td>\n",
       "      <td>For example, through chaos testing, we found a...</td>\n",
       "      <td>[-0.029230546206235886, -0.012972258031368256,...</td>\n",
       "    </tr>\n",
       "    <tr>\n",
       "      <th>8</th>\n",
       "      <td>a5e22f63-87fd-497b-ac9c-3a5ead36d15c</td>\n",
       "      <td>Errors, either transient or permanent, can be ...</td>\n",
       "      <td>[-0.019595345482230186, -0.019145982339978218,...</td>\n",
       "    </tr>\n",
       "    <tr>\n",
       "      <th>9</th>\n",
       "      <td>ce2bf89f-4b28-40b7-974b-a1995cc4dce1</td>\n",
       "      <td>The restart logic is quite complex and we even...</td>\n",
       "      <td>[-0.028140805661678314, -0.019556596875190735,...</td>\n",
       "    </tr>\n",
       "  </tbody>\n",
       "</table>\n",
       "</div>"
      ],
      "text/plain": [
       "                                     id  \\\n",
       "0  0e662025-f37e-46cc-ac15-e60c31b4311d   \n",
       "1  2f41a409-3f48-47fd-9f44-a6c58872d073   \n",
       "2  31936bef-c7d2-49a8-a804-191c62280056   \n",
       "3  319c15f6-b562-444f-be6d-e7d86dae5e4f   \n",
       "4  3eed6c98-3944-402f-bed2-46500d4ce700   \n",
       "5  4da4365f-c09e-418a-8ebe-9838dcb0b57e   \n",
       "6  90036355-e996-4982-b42c-b89eb4a95dda   \n",
       "7  90b8c7e1-2fdf-4613-abf0-03372d0e5e7f   \n",
       "8  a5e22f63-87fd-497b-ac9c-3a5ead36d15c   \n",
       "9  ce2bf89f-4b28-40b7-974b-a1995cc4dce1   \n",
       "\n",
       "                                             content  \\\n",
       "0  Since both correctness and availability are cr...   \n",
       "1  Upping reliability with chaos testing\\nWe run ...   \n",
       "2  4. Memory/quota faults\\nWhen servers run low o...   \n",
       "3  Blackhole the request: Sometimes the file syst...   \n",
       "4  5. Cloud faults\\nAccess to Spanner from the Go...   \n",
       "5  A read or query on the database does not retur...   \n",
       "6  SOURCE: https://cloud.google.com/blog/products...   \n",
       "7  For example, through chaos testing, we found a...   \n",
       "8  Errors, either transient or permanent, can be ...   \n",
       "9  The restart logic is quite complex and we even...   \n",
       "\n",
       "                                           embedding  \n",
       "0  [-0.024999909102916718, -0.001801451202481985,...  \n",
       "1  [-0.04426778107881546, 0.0026189256459474564, ...  \n",
       "2  [-0.037452224642038345, -0.007777196355164051,...  \n",
       "3  [-0.0427422858774662, -0.0013925273669883609, ...  \n",
       "4  [-0.04665933921933174, 0.001961533911526203, 0...  \n",
       "5  [-0.018720634281635284, -0.020843015983700752,...  \n",
       "6  [-0.05042260140180588, 0.007137879263609648, 0...  \n",
       "7  [-0.029230546206235886, -0.012972258031368256,...  \n",
       "8  [-0.019595345482230186, -0.019145982339978218,...  \n",
       "9  [-0.028140805661678314, -0.019556596875190735,...  "
      ]
     },
     "metadata": {},
     "output_type": "display_data"
    }
   ],
   "source": [
    "import pandas as pd\n",
    "from google.cloud import spanner\n",
    "\n",
    "spanner_db = spanner.Client(project=PROJECT_ID).instance(INSTANCE).database(DATABASE)\n",
    "\n",
    "result_df = pd.DataFrame()\n",
    "\n",
    "with spanner_db.snapshot() as snapshot:\n",
    "    results = snapshot.execute_sql(f\"SELECT * FROM {TABLE_NAME} LIMIT 10;\")\n",
    "\n",
    "    rows = []\n",
    "    for row in results:\n",
    "        rows.append(row)\n",
    "    \n",
    "    # Get column names\n",
    "    cols = [x.name for x in results.fields]\n",
    "\n",
    "    # Convert to pandas dataframe\n",
    "    result_df = pd.DataFrame(rows, columns = cols)\n",
    "\n",
    "display(result_df)"
   ]
  },
  {
   "cell_type": "markdown",
   "id": "b16a348b",
   "metadata": {},
   "source": [
    "Let's now do a similarity search on the indexed data via LangChain and display the results:"
   ]
  },
  {
   "cell_type": "code",
   "execution_count": 133,
   "id": "d1a9bd93",
   "metadata": {},
   "outputs": [
    {
     "name": "stdout",
     "output_type": "stream",
     "text": [
      "Num results: 3\n",
      "\n"
     ]
    },
    {
     "data": {
      "text/html": [
       "<div>\n",
       "<style scoped>\n",
       "    .dataframe tbody tr th:only-of-type {\n",
       "        vertical-align: middle;\n",
       "    }\n",
       "\n",
       "    .dataframe tbody tr th {\n",
       "        vertical-align: top;\n",
       "    }\n",
       "\n",
       "    .dataframe thead th {\n",
       "        text-align: right;\n",
       "    }\n",
       "</style>\n",
       "<table border=\"1\" class=\"dataframe\">\n",
       "  <thead>\n",
       "    <tr style=\"text-align: right;\">\n",
       "      <th></th>\n",
       "      <th>page_content</th>\n",
       "    </tr>\n",
       "  </thead>\n",
       "  <tbody>\n",
       "    <tr>\n",
       "      <th>0</th>\n",
       "      <td>Spanner earns its reputation for reliability\\nSpanner is fault tolerant by design. We continuously validate Spanner’s reliability by running many large-scale randomized system tests that employ chaos testing.\\n\\nYou can learn more about what makes Spanner unique and how it’s being used today. Or try it yourself for free for 90-days or for as little as $65 USD/month for a production-ready instance that grows with your business without downtime or disruptive re-architecture.</td>\n",
       "    </tr>\n",
       "    <tr>\n",
       "      <th>1</th>\n",
       "      <td>5. Cloud faults\\nAccess to Spanner from the Google Cloud Platform is mediated by Spanner API Front End Servers, which proxy requests coming into Google Cloud through Google front ends to a Spanner database. External clients open sessions with the Spanner database and execute transactions on these sessions. For Spanner, we crash the Spanner API frontend servers, which forces sessions to migrate to other Spanner API frontend servers. This should not be visible to the client (besides some additional latency).\\n\\n6. Regional outages\\nThe largest faults we simulate in system tests are outages of an entire region, forcing Spanner to serve data from a quorum of other regions. The majority of our system tests simulate several kinds of regional outages, triggered either by file system or network outages, and we verify Spanner continues to serve. This resilience is a property of the Paxos algorithm, which guarantees progress as long as a quorum (2 of 3, or 3 of 5) of replicas remain healthy.</td>\n",
       "    </tr>\n",
       "    <tr>\n",
       "      <th>2</th>\n",
       "      <td>A fault-tolerant design foundation\\nSpanner is built from “mostly reliable” components including machines, disks, and networking hardware that have a low rate of failure. Even so, bad things happen: bad memory and disks may lead to data corruption; file accesses may yield transient or permanent errors or corruption; or network connectivity within or between data centers may be throttled or lost altogether. Worst of all, software bugs sometimes produce correlated failures in all servers running the same version of the code.</td>\n",
       "    </tr>\n",
       "  </tbody>\n",
       "</table>\n",
       "</div>"
      ],
      "text/plain": [
       "                                                                                                                                                                                                                                                                                                                                                                                                                                                                                                                                                                                                                                                                                                                                                                                                                                                                                                                                                                                                                           page_content\n",
       "0                                                                                                                                                                                                                                                                                                                                                                                                                                                                                                                                         Spanner earns its reputation for reliability\\nSpanner is fault tolerant by design. We continuously validate Spanner’s reliability by running many large-scale randomized system tests that employ chaos testing.\\n\\nYou can learn more about what makes Spanner unique and how it’s being used today. Or try it yourself for free for 90-days or for as little as $65 USD/month for a production-ready instance that grows with your business without downtime or disruptive re-architecture.\n",
       "1  5. Cloud faults\\nAccess to Spanner from the Google Cloud Platform is mediated by Spanner API Front End Servers, which proxy requests coming into Google Cloud through Google front ends to a Spanner database. External clients open sessions with the Spanner database and execute transactions on these sessions. For Spanner, we crash the Spanner API frontend servers, which forces sessions to migrate to other Spanner API frontend servers. This should not be visible to the client (besides some additional latency).\\n\\n6. Regional outages\\nThe largest faults we simulate in system tests are outages of an entire region, forcing Spanner to serve data from a quorum of other regions. The majority of our system tests simulate several kinds of regional outages, triggered either by file system or network outages, and we verify Spanner continues to serve. This resilience is a property of the Paxos algorithm, which guarantees progress as long as a quorum (2 of 3, or 3 of 5) of replicas remain healthy.\n",
       "2                                                                                                                                                                                                                                                                                                                                                                                                                                                                                      A fault-tolerant design foundation\\nSpanner is built from “mostly reliable” components including machines, disks, and networking hardware that have a low rate of failure. Even so, bad things happen: bad memory and disks may lead to data corruption; file accesses may yield transient or permanent errors or corruption; or network connectivity within or between data centers may be throttled or lost altogether. Worst of all, software bugs sometimes produce correlated failures in all servers running the same version of the code."
      ]
     },
     "metadata": {},
     "output_type": "display_data"
    }
   ],
   "source": [
    "results = vectorstore.similarity_search(query=\"resilience\", k=3)\n",
    "print('Num results: ' + str(len(results)))\n",
    "print()\n",
    "\n",
    "search_rows = [x.page_content for x in results]\n",
    "cols = ['page_content']\n",
    "\n",
    "# The following ensures that the full chunked text fragment is displayed without truncation\n",
    "pd.set_option('display.max_colwidth', None)\n",
    "\n",
    "search_df = pd.DataFrame(search_rows, columns = cols)\n",
    "display(search_df)"
   ]
  },
  {
   "cell_type": "markdown",
   "id": "a3398773",
   "metadata": {},
   "source": [
    "Let's use another chunking approach and compare results"
   ]
  },
  {
   "cell_type": "code",
   "execution_count": 135,
   "id": "5dafe3be",
   "metadata": {},
   "outputs": [
    {
     "name": "stdout",
     "output_type": "stream",
     "text": [
      "Waiting for operation to complete...\n"
     ]
    }
   ],
   "source": [
    "from langchain_text_splitters import RecursiveCharacterTextSplitter\n",
    "\n",
    "# A second table to index using second chunking approach\n",
    "TABLE_NAME_RS = \"vectors_search_data_rs\" # rs for recursive splitter\n",
    "\n",
    "SpannerVectorStore.init_vector_store_table(\n",
    "    instance_id=INSTANCE,\n",
    "    database_id=DATABASE,\n",
    "    table_name=TABLE_NAME_RS,\n",
    "    # Customize the table creation\n",
    "    id_column=\"id\",\n",
    "    # content_column=\"content_column\",\n",
    "    # metadata_columns=[\n",
    "    #     TableColumn(name=\"metadata\", type=\"JSON\", is_null=True),\n",
    "    #     TableColumn(name=\"title\", type=\"STRING(MAX)\", is_null=False),\n",
    "    # ],\n",
    "    # secondary_indexes=[\n",
    "    #     SecondaryIndex(index_name=\"row_id_and_title\", columns=[\"row_id\", \"title\"])\n",
    "    # ],\n",
    ")\n",
    "\n",
    "# We'll use RecursiveCharacterTextSplitter this time and a different chunk size (just to demonstrate)\n",
    "text_splitter = RecursiveCharacterTextSplitter(chunk_size=1500, chunk_overlap=30, length_function=len, is_separator_regex=False)\n",
    "\n",
    "# Generate chunks (list of LangChain Documents)\n",
    "documents = text_splitter.split_documents(file_contents)\n",
    "\n",
    "ids = [str(uuid.uuid4()) for _ in range(len(documents))]\n",
    "\n",
    "# The following indexes the above chunks in Spanner\n",
    "vectorstore_rs = SpannerVectorStore.from_documents(documents,\n",
    "                                                embeddings,\n",
    "                                                INSTANCE,\n",
    "                                                DATABASE,\n",
    "                                                TABLE_NAME_RS,\n",
    "                                                id_column=\"id\",\n",
    "                                                ids=ids)"
   ]
  },
  {
   "cell_type": "markdown",
   "id": "16e85215",
   "metadata": {},
   "source": [
    "Let's do a search using these newly indexed documents"
   ]
  },
  {
   "cell_type": "code",
   "execution_count": 136,
   "id": "f7a1612e",
   "metadata": {},
   "outputs": [
    {
     "name": "stdout",
     "output_type": "stream",
     "text": [
      "Num results: 3\n",
      "\n"
     ]
    },
    {
     "data": {
      "text/html": [
       "<div>\n",
       "<style scoped>\n",
       "    .dataframe tbody tr th:only-of-type {\n",
       "        vertical-align: middle;\n",
       "    }\n",
       "\n",
       "    .dataframe tbody tr th {\n",
       "        vertical-align: top;\n",
       "    }\n",
       "\n",
       "    .dataframe thead th {\n",
       "        text-align: right;\n",
       "    }\n",
       "</style>\n",
       "<table border=\"1\" class=\"dataframe\">\n",
       "  <thead>\n",
       "    <tr style=\"text-align: right;\">\n",
       "      <th></th>\n",
       "      <th>page_content</th>\n",
       "    </tr>\n",
       "  </thead>\n",
       "  <tbody>\n",
       "    <tr>\n",
       "      <th>0</th>\n",
       "      <td>5. Cloud faults\\nAccess to Spanner from the Google Cloud Platform is mediated by Spanner API Front End Servers, which proxy requests coming into Google Cloud through Google front ends to a Spanner database. External clients open sessions with the Spanner database and execute transactions on these sessions. For Spanner, we crash the Spanner API frontend servers, which forces sessions to migrate to other Spanner API frontend servers. This should not be visible to the client (besides some additional latency).\\n\\n6. Regional outages\\nThe largest faults we simulate in system tests are outages of an entire region, forcing Spanner to serve data from a quorum of other regions. The majority of our system tests simulate several kinds of regional outages, triggered either by file system or network outages, and we verify Spanner continues to serve. This resilience is a property of the Paxos algorithm, which guarantees progress as long as a quorum (2 of 3, or 3 of 5) of replicas remain healthy.\\n\\nSpanner earns its reputation for reliability\\nSpanner is fault tolerant by design. We continuously validate Spanner’s reliability by running many large-scale randomized system tests that employ chaos testing.\\n\\nYou can learn more about what makes Spanner unique and how it’s being used today. Or try it yourself for free for 90-days or for as little as $65 USD/month for a production-ready instance that grows with your business without downtime or disruptive re-architecture.</td>\n",
       "    </tr>\n",
       "    <tr>\n",
       "      <th>1</th>\n",
       "      <td>SOURCE: https://cloud.google.com/blog/products/databases/chaos-testing-spanner-improves-reiliability\\n\\nOne of the secrets behind Spanner’s reliability is the team’s extensive use of chaos testing, the process of deliberately injecting faults into production-like instances of the database. Although engineers focus on testing the “happy path,” most software bugs occur when things go wrong. Given Spanner’s complex architecture and constantly evolving codebase, it is inevitable that bugs will be introduced. Here, we give an overview of the types of chaos testing we employ and the kinds of bugs it finds.\\n\\nA fault-tolerant design foundation\\nSpanner is built from “mostly reliable” components including machines, disks, and networking hardware that have a low rate of failure. Even so, bad things happen: bad memory and disks may lead to data corruption; file accesses may yield transient or permanent errors or corruption; or network connectivity within or between data centers may be throttled or lost altogether. Worst of all, software bugs sometimes produce correlated failures in all servers running the same version of the code.</td>\n",
       "    </tr>\n",
       "    <tr>\n",
       "      <th>2</th>\n",
       "      <td>Since both correctness and availability are critical, Spanner uses principles of fault-tolerant design to mask failures of these components and achieve high reliability for the service. For example, checksums are used to detect data corruption at many levels. Spanner tablets, which store a fragment of the database, are replicated across three or (usually) more data centers and the reads and writes use Paxos to achieve consensus and consistency of the distributed state. Checksums are also used to detect corruption of a tablet replica. The data for these tablets is stored in files, and the file system keeps multiple copies of the data blocks within the data center, using checksums to detect corrupted blocks. Finally, we proceed cautiously when rolling out new software versions, alerting on any anomalies that may be caused by a new bug.\\n\\nUpping reliability with chaos testing\\nWe run over a thousand system tests per week to validate that Spanner’s design and implementation actually mask faults and provide a highly reliable service. Each test creates a production-like instance of Spanner comprising hundreds of processes running on the same computing platform and using the same dependent systems (e.g., file system, lock service) as production Spanner. Most tests run for between one and 24 hours and execute tens or hundreds of thousands of transactions.</td>\n",
       "    </tr>\n",
       "  </tbody>\n",
       "</table>\n",
       "</div>"
      ],
      "text/plain": [
       "                                                                                                                                                                                                                                                                                                                                                                                                                                                                                                                                                                                                                                                                                                                                                                                                                                                                                                                                                                                                                                                                                                                                                                                                                                                                                                                                                                                                                                                                                                                            page_content\n",
       "0  5. Cloud faults\\nAccess to Spanner from the Google Cloud Platform is mediated by Spanner API Front End Servers, which proxy requests coming into Google Cloud through Google front ends to a Spanner database. External clients open sessions with the Spanner database and execute transactions on these sessions. For Spanner, we crash the Spanner API frontend servers, which forces sessions to migrate to other Spanner API frontend servers. This should not be visible to the client (besides some additional latency).\\n\\n6. Regional outages\\nThe largest faults we simulate in system tests are outages of an entire region, forcing Spanner to serve data from a quorum of other regions. The majority of our system tests simulate several kinds of regional outages, triggered either by file system or network outages, and we verify Spanner continues to serve. This resilience is a property of the Paxos algorithm, which guarantees progress as long as a quorum (2 of 3, or 3 of 5) of replicas remain healthy.\\n\\nSpanner earns its reputation for reliability\\nSpanner is fault tolerant by design. We continuously validate Spanner’s reliability by running many large-scale randomized system tests that employ chaos testing.\\n\\nYou can learn more about what makes Spanner unique and how it’s being used today. Or try it yourself for free for 90-days or for as little as $65 USD/month for a production-ready instance that grows with your business without downtime or disruptive re-architecture.\n",
       "1                                                                                                                                                                                                                                                                                                                                                    SOURCE: https://cloud.google.com/blog/products/databases/chaos-testing-spanner-improves-reiliability\\n\\nOne of the secrets behind Spanner’s reliability is the team’s extensive use of chaos testing, the process of deliberately injecting faults into production-like instances of the database. Although engineers focus on testing the “happy path,” most software bugs occur when things go wrong. Given Spanner’s complex architecture and constantly evolving codebase, it is inevitable that bugs will be introduced. Here, we give an overview of the types of chaos testing we employ and the kinds of bugs it finds.\\n\\nA fault-tolerant design foundation\\nSpanner is built from “mostly reliable” components including machines, disks, and networking hardware that have a low rate of failure. Even so, bad things happen: bad memory and disks may lead to data corruption; file accesses may yield transient or permanent errors or corruption; or network connectivity within or between data centers may be throttled or lost altogether. Worst of all, software bugs sometimes produce correlated failures in all servers running the same version of the code.\n",
       "2                                                                                                             Since both correctness and availability are critical, Spanner uses principles of fault-tolerant design to mask failures of these components and achieve high reliability for the service. For example, checksums are used to detect data corruption at many levels. Spanner tablets, which store a fragment of the database, are replicated across three or (usually) more data centers and the reads and writes use Paxos to achieve consensus and consistency of the distributed state. Checksums are also used to detect corruption of a tablet replica. The data for these tablets is stored in files, and the file system keeps multiple copies of the data blocks within the data center, using checksums to detect corrupted blocks. Finally, we proceed cautiously when rolling out new software versions, alerting on any anomalies that may be caused by a new bug.\\n\\nUpping reliability with chaos testing\\nWe run over a thousand system tests per week to validate that Spanner’s design and implementation actually mask faults and provide a highly reliable service. Each test creates a production-like instance of Spanner comprising hundreds of processes running on the same computing platform and using the same dependent systems (e.g., file system, lock service) as production Spanner. Most tests run for between one and 24 hours and execute tens or hundreds of thousands of transactions."
      ]
     },
     "metadata": {},
     "output_type": "display_data"
    }
   ],
   "source": [
    "results_rs = vectorstore_rs.similarity_search(query=\"resilience\", k=3)\n",
    "print('Num results: ' + str(len(results)))\n",
    "print()\n",
    "\n",
    "search_rows_rs = [x.page_content for x in results_rs]\n",
    "\n",
    "# The following ensures that the full chunked text fragment is displayed without truncation\n",
    "pd.set_option('display.max_colwidth', None)\n",
    "\n",
    "search_rs_df = pd.DataFrame(search_rows_rs, columns = cols)\n",
    "display(search_rs_df)"
   ]
  },
  {
   "cell_type": "code",
   "execution_count": 141,
   "id": "b9052ed6",
   "metadata": {},
   "outputs": [
    {
     "data": {
      "text/html": [
       "<div>\n",
       "<style scoped>\n",
       "    .dataframe tbody tr th:only-of-type {\n",
       "        vertical-align: middle;\n",
       "    }\n",
       "\n",
       "    .dataframe tbody tr th {\n",
       "        vertical-align: top;\n",
       "    }\n",
       "\n",
       "    .dataframe thead th {\n",
       "        text-align: right;\n",
       "    }\n",
       "</style>\n",
       "<table border=\"1\" class=\"dataframe\">\n",
       "  <thead>\n",
       "    <tr style=\"text-align: right;\">\n",
       "      <th></th>\n",
       "      <th>page_content</th>\n",
       "    </tr>\n",
       "  </thead>\n",
       "  <tbody>\n",
       "    <tr>\n",
       "      <th>0</th>\n",
       "      <td>Spanner earns its reputation for reliability\\nSpanner is fault tolerant by design. We continuously validate Spanner’s reliability by running many large-scale randomized system tests that employ chaos testing.\\n\\nYou can learn more about what makes Spanner unique and how it’s being used today. Or try it yourself for free for 90-days or for as little as $65 USD/month for a production-ready instance that grows with your business without downtime or disruptive re-architecture.</td>\n",
       "    </tr>\n",
       "    <tr>\n",
       "      <th>1</th>\n",
       "      <td>5. Cloud faults\\nAccess to Spanner from the Google Cloud Platform is mediated by Spanner API Front End Servers, which proxy requests coming into Google Cloud through Google front ends to a Spanner database. External clients open sessions with the Spanner database and execute transactions on these sessions. For Spanner, we crash the Spanner API frontend servers, which forces sessions to migrate to other Spanner API frontend servers. This should not be visible to the client (besides some additional latency).\\n\\n6. Regional outages\\nThe largest faults we simulate in system tests are outages of an entire region, forcing Spanner to serve data from a quorum of other regions. The majority of our system tests simulate several kinds of regional outages, triggered either by file system or network outages, and we verify Spanner continues to serve. This resilience is a property of the Paxos algorithm, which guarantees progress as long as a quorum (2 of 3, or 3 of 5) of replicas remain healthy.</td>\n",
       "    </tr>\n",
       "    <tr>\n",
       "      <th>2</th>\n",
       "      <td>A fault-tolerant design foundation\\nSpanner is built from “mostly reliable” components including machines, disks, and networking hardware that have a low rate of failure. Even so, bad things happen: bad memory and disks may lead to data corruption; file accesses may yield transient or permanent errors or corruption; or network connectivity within or between data centers may be throttled or lost altogether. Worst of all, software bugs sometimes produce correlated failures in all servers running the same version of the code.</td>\n",
       "    </tr>\n",
       "  </tbody>\n",
       "</table>\n",
       "</div>"
      ],
      "text/plain": [
       "                                                                                                                                                                                                                                                                                                                                                                                                                                                                                                                                                                                                                                                                                                                                                                                                                                                                                                                                                                                                                           page_content\n",
       "0                                                                                                                                                                                                                                                                                                                                                                                                                                                                                                                                         Spanner earns its reputation for reliability\\nSpanner is fault tolerant by design. We continuously validate Spanner’s reliability by running many large-scale randomized system tests that employ chaos testing.\\n\\nYou can learn more about what makes Spanner unique and how it’s being used today. Or try it yourself for free for 90-days or for as little as $65 USD/month for a production-ready instance that grows with your business without downtime or disruptive re-architecture.\n",
       "1  5. Cloud faults\\nAccess to Spanner from the Google Cloud Platform is mediated by Spanner API Front End Servers, which proxy requests coming into Google Cloud through Google front ends to a Spanner database. External clients open sessions with the Spanner database and execute transactions on these sessions. For Spanner, we crash the Spanner API frontend servers, which forces sessions to migrate to other Spanner API frontend servers. This should not be visible to the client (besides some additional latency).\\n\\n6. Regional outages\\nThe largest faults we simulate in system tests are outages of an entire region, forcing Spanner to serve data from a quorum of other regions. The majority of our system tests simulate several kinds of regional outages, triggered either by file system or network outages, and we verify Spanner continues to serve. This resilience is a property of the Paxos algorithm, which guarantees progress as long as a quorum (2 of 3, or 3 of 5) of replicas remain healthy.\n",
       "2                                                                                                                                                                                                                                                                                                                                                                                                                                                                                      A fault-tolerant design foundation\\nSpanner is built from “mostly reliable” components including machines, disks, and networking hardware that have a low rate of failure. Even so, bad things happen: bad memory and disks may lead to data corruption; file accesses may yield transient or permanent errors or corruption; or network connectivity within or between data centers may be throttled or lost altogether. Worst of all, software bugs sometimes produce correlated failures in all servers running the same version of the code."
      ]
     },
     "metadata": {},
     "output_type": "display_data"
    },
    {
     "data": {
      "text/html": [
       "<div>\n",
       "<style scoped>\n",
       "    .dataframe tbody tr th:only-of-type {\n",
       "        vertical-align: middle;\n",
       "    }\n",
       "\n",
       "    .dataframe tbody tr th {\n",
       "        vertical-align: top;\n",
       "    }\n",
       "\n",
       "    .dataframe thead th {\n",
       "        text-align: right;\n",
       "    }\n",
       "</style>\n",
       "<table border=\"1\" class=\"dataframe\">\n",
       "  <thead>\n",
       "    <tr style=\"text-align: right;\">\n",
       "      <th></th>\n",
       "      <th>page_content</th>\n",
       "    </tr>\n",
       "  </thead>\n",
       "  <tbody>\n",
       "    <tr>\n",
       "      <th>0</th>\n",
       "      <td>5. Cloud faults\\nAccess to Spanner from the Google Cloud Platform is mediated by Spanner API Front End Servers, which proxy requests coming into Google Cloud through Google front ends to a Spanner database. External clients open sessions with the Spanner database and execute transactions on these sessions. For Spanner, we crash the Spanner API frontend servers, which forces sessions to migrate to other Spanner API frontend servers. This should not be visible to the client (besides some additional latency).\\n\\n6. Regional outages\\nThe largest faults we simulate in system tests are outages of an entire region, forcing Spanner to serve data from a quorum of other regions. The majority of our system tests simulate several kinds of regional outages, triggered either by file system or network outages, and we verify Spanner continues to serve. This resilience is a property of the Paxos algorithm, which guarantees progress as long as a quorum (2 of 3, or 3 of 5) of replicas remain healthy.\\n\\nSpanner earns its reputation for reliability\\nSpanner is fault tolerant by design. We continuously validate Spanner’s reliability by running many large-scale randomized system tests that employ chaos testing.\\n\\nYou can learn more about what makes Spanner unique and how it’s being used today. Or try it yourself for free for 90-days or for as little as $65 USD/month for a production-ready instance that grows with your business without downtime or disruptive re-architecture.</td>\n",
       "    </tr>\n",
       "    <tr>\n",
       "      <th>1</th>\n",
       "      <td>SOURCE: https://cloud.google.com/blog/products/databases/chaos-testing-spanner-improves-reiliability\\n\\nOne of the secrets behind Spanner’s reliability is the team’s extensive use of chaos testing, the process of deliberately injecting faults into production-like instances of the database. Although engineers focus on testing the “happy path,” most software bugs occur when things go wrong. Given Spanner’s complex architecture and constantly evolving codebase, it is inevitable that bugs will be introduced. Here, we give an overview of the types of chaos testing we employ and the kinds of bugs it finds.\\n\\nA fault-tolerant design foundation\\nSpanner is built from “mostly reliable” components including machines, disks, and networking hardware that have a low rate of failure. Even so, bad things happen: bad memory and disks may lead to data corruption; file accesses may yield transient or permanent errors or corruption; or network connectivity within or between data centers may be throttled or lost altogether. Worst of all, software bugs sometimes produce correlated failures in all servers running the same version of the code.</td>\n",
       "    </tr>\n",
       "    <tr>\n",
       "      <th>2</th>\n",
       "      <td>Since both correctness and availability are critical, Spanner uses principles of fault-tolerant design to mask failures of these components and achieve high reliability for the service. For example, checksums are used to detect data corruption at many levels. Spanner tablets, which store a fragment of the database, are replicated across three or (usually) more data centers and the reads and writes use Paxos to achieve consensus and consistency of the distributed state. Checksums are also used to detect corruption of a tablet replica. The data for these tablets is stored in files, and the file system keeps multiple copies of the data blocks within the data center, using checksums to detect corrupted blocks. Finally, we proceed cautiously when rolling out new software versions, alerting on any anomalies that may be caused by a new bug.\\n\\nUpping reliability with chaos testing\\nWe run over a thousand system tests per week to validate that Spanner’s design and implementation actually mask faults and provide a highly reliable service. Each test creates a production-like instance of Spanner comprising hundreds of processes running on the same computing platform and using the same dependent systems (e.g., file system, lock service) as production Spanner. Most tests run for between one and 24 hours and execute tens or hundreds of thousands of transactions.</td>\n",
       "    </tr>\n",
       "  </tbody>\n",
       "</table>\n",
       "</div>"
      ],
      "text/plain": [
       "                                                                                                                                                                                                                                                                                                                                                                                                                                                                                                                                                                                                                                                                                                                                                                                                                                                                                                                                                                                                                                                                                                                                                                                                                                                                                                                                                                                                                                                                                                                            page_content\n",
       "0  5. Cloud faults\\nAccess to Spanner from the Google Cloud Platform is mediated by Spanner API Front End Servers, which proxy requests coming into Google Cloud through Google front ends to a Spanner database. External clients open sessions with the Spanner database and execute transactions on these sessions. For Spanner, we crash the Spanner API frontend servers, which forces sessions to migrate to other Spanner API frontend servers. This should not be visible to the client (besides some additional latency).\\n\\n6. Regional outages\\nThe largest faults we simulate in system tests are outages of an entire region, forcing Spanner to serve data from a quorum of other regions. The majority of our system tests simulate several kinds of regional outages, triggered either by file system or network outages, and we verify Spanner continues to serve. This resilience is a property of the Paxos algorithm, which guarantees progress as long as a quorum (2 of 3, or 3 of 5) of replicas remain healthy.\\n\\nSpanner earns its reputation for reliability\\nSpanner is fault tolerant by design. We continuously validate Spanner’s reliability by running many large-scale randomized system tests that employ chaos testing.\\n\\nYou can learn more about what makes Spanner unique and how it’s being used today. Or try it yourself for free for 90-days or for as little as $65 USD/month for a production-ready instance that grows with your business without downtime or disruptive re-architecture.\n",
       "1                                                                                                                                                                                                                                                                                                                                                    SOURCE: https://cloud.google.com/blog/products/databases/chaos-testing-spanner-improves-reiliability\\n\\nOne of the secrets behind Spanner’s reliability is the team’s extensive use of chaos testing, the process of deliberately injecting faults into production-like instances of the database. Although engineers focus on testing the “happy path,” most software bugs occur when things go wrong. Given Spanner’s complex architecture and constantly evolving codebase, it is inevitable that bugs will be introduced. Here, we give an overview of the types of chaos testing we employ and the kinds of bugs it finds.\\n\\nA fault-tolerant design foundation\\nSpanner is built from “mostly reliable” components including machines, disks, and networking hardware that have a low rate of failure. Even so, bad things happen: bad memory and disks may lead to data corruption; file accesses may yield transient or permanent errors or corruption; or network connectivity within or between data centers may be throttled or lost altogether. Worst of all, software bugs sometimes produce correlated failures in all servers running the same version of the code.\n",
       "2                                                                                                             Since both correctness and availability are critical, Spanner uses principles of fault-tolerant design to mask failures of these components and achieve high reliability for the service. For example, checksums are used to detect data corruption at many levels. Spanner tablets, which store a fragment of the database, are replicated across three or (usually) more data centers and the reads and writes use Paxos to achieve consensus and consistency of the distributed state. Checksums are also used to detect corruption of a tablet replica. The data for these tablets is stored in files, and the file system keeps multiple copies of the data blocks within the data center, using checksums to detect corrupted blocks. Finally, we proceed cautiously when rolling out new software versions, alerting on any anomalies that may be caused by a new bug.\\n\\nUpping reliability with chaos testing\\nWe run over a thousand system tests per week to validate that Spanner’s design and implementation actually mask faults and provide a highly reliable service. Each test creates a production-like instance of Spanner comprising hundreds of processes running on the same computing platform and using the same dependent systems (e.g., file system, lock service) as production Spanner. Most tests run for between one and 24 hours and execute tens or hundreds of thousands of transactions."
      ]
     },
     "metadata": {},
     "output_type": "display_data"
    }
   ],
   "source": [
    "# display the results next to each other\n",
    "\n",
    "display(search_df)\n",
    "display(search_rs_df)"
   ]
  },
  {
   "cell_type": "markdown",
   "id": "dd1a0e9b",
   "metadata": {},
   "source": [
    "## Cleanup"
   ]
  },
  {
   "cell_type": "markdown",
   "id": "d6a13a69",
   "metadata": {},
   "source": [
    "To ensure that you don't continue to get billed for the resources you provisioned, just go into the [Cloud Spanner section](https://console.cloud.google.com/spanner/instances/) of the Cloud Console and delete the instance you created."
   ]
  }
 ],
 "metadata": {
  "kernelspec": {
   "display_name": "langchain-spanner",
   "language": "python",
   "name": "python3"
  },
  "language_info": {
   "codemirror_mode": {
    "name": "ipython",
    "version": 3
   },
   "file_extension": ".py",
   "mimetype": "text/x-python",
   "name": "python",
   "nbconvert_exporter": "python",
   "pygments_lexer": "ipython3",
   "version": "3.11.12"
  }
 },
 "nbformat": 4,
 "nbformat_minor": 5
}
